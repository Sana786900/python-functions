{
  "nbformat": 4,
  "nbformat_minor": 0,
  "metadata": {
    "colab": {
      "provenance": []
    },
    "kernelspec": {
      "name": "python3",
      "display_name": "Python 3"
    },
    "language_info": {
      "name": "python"
    }
  },
  "cells": [
    {
      "cell_type": "markdown",
      "source": [
        "# **Theory Questions**"
      ],
      "metadata": {
        "id": "_x1WYFu2vqEs"
      }
    },
    {
      "cell_type": "markdown",
      "source": [
        "**What is the difference between a function and a method in Python?**"
      ],
      "metadata": {
        "id": "Zk4P1VsivuBF"
      }
    },
    {
      "cell_type": "markdown",
      "source": [
        "Function: A function is a block of code that is defined independently and can be called anywhere in the program. It is defined using the def keyword."
      ],
      "metadata": {
        "id": "viP7YiOWv2ie"
      }
    },
    {
      "cell_type": "code",
      "source": [
        "def multiply(a, b):\n",
        "    return a * b\n",
        "\n",
        "print(multiply(2, 3))\n"
      ],
      "metadata": {
        "colab": {
          "base_uri": "https://localhost:8080/"
        },
        "id": "4gLrVrJ_wJRR",
        "outputId": "f5a196a6-3111-4143-ccc0-baa7c20eb433"
      },
      "execution_count": null,
      "outputs": [
        {
          "output_type": "stream",
          "name": "stdout",
          "text": [
            "6\n"
          ]
        }
      ]
    },
    {
      "cell_type": "markdown",
      "source": [
        "Method: A method is similar to a function but is associated with an object. It is called on an object and may access or modify the object’s state. Methods are defined within classes."
      ],
      "metadata": {
        "id": "rd5wRtsXwdG3"
      }
    },
    {
      "cell_type": "code",
      "source": [
        "class Calculator:\n",
        "    def add(self, a, b):\n",
        "        return a + b\n",
        "\n",
        "calc = Calculator()\n",
        "print(calc.add(3, 5))\n"
      ],
      "metadata": {
        "id": "PQOK1Yswwn9w"
      },
      "execution_count": null,
      "outputs": []
    },
    {
      "cell_type": "markdown",
      "source": [
        "**2. Explain the concept of function arguments and parameters in Python.**\n",
        "."
      ],
      "metadata": {
        "id": "pa7IQ7rvSvtY"
      }
    },
    {
      "cell_type": "markdown",
      "source": [
        " Parameters are variables listed in the function's definition and act as placeholders for the values passed into the function"
      ],
      "metadata": {
        "id": "eHDdD-ymQD0e"
      }
    },
    {
      "cell_type": "code",
      "source": [
        "def add(x, y):\n",
        "    return x + y"
      ],
      "metadata": {
        "id": "6j5F0pi9TUBE"
      },
      "execution_count": null,
      "outputs": []
    },
    {
      "cell_type": "markdown",
      "source": [
        "Arguments are the actual values that are passed into the function when it is called."
      ],
      "metadata": {
        "id": "XMYJpbFCTWJw"
      }
    },
    {
      "cell_type": "code",
      "source": [
        "result = add(5, 3)\n",
        "print(result)"
      ],
      "metadata": {
        "id": "ypWvz9RXThx8"
      },
      "execution_count": null,
      "outputs": []
    },
    {
      "cell_type": "markdown",
      "source": [
        "**3. What are the different ways to define and call a function in Python?\n",
        "Ways to Define and Call a Function**"
      ],
      "metadata": {
        "id": "Uero3Hn_ToU7"
      }
    },
    {
      "cell_type": "markdown",
      "source": [
        "### **Regular Function:**"
      ],
      "metadata": {
        "id": "U4CHIqP6T7r2"
      }
    },
    {
      "cell_type": "code",
      "source": [
        "\n",
        "def multiply(a, b):\n",
        "    return a * b\n",
        "\n",
        "print(multiply(2, 3))"
      ],
      "metadata": {
        "id": "dbo0cqaxTw8O",
        "outputId": "dacbc019-f9e9-456b-e492-8f6994bb858e",
        "colab": {
          "base_uri": "https://localhost:8080/"
        }
      },
      "execution_count": null,
      "outputs": [
        {
          "output_type": "stream",
          "name": "stdout",
          "text": [
            "6\n"
          ]
        }
      ]
    },
    {
      "cell_type": "markdown",
      "source": [
        "### **Lambda Function:**"
      ],
      "metadata": {
        "id": "02101zGLUUIr"
      }
    },
    {
      "cell_type": "code",
      "source": [
        "multiply = lambda a, b: a * b\n",
        "print(multiply(2, 3))\n"
      ],
      "metadata": {
        "id": "5r-FH9XCUWqi",
        "outputId": "4788b7a0-90ed-4392-e29e-d790a2c1636e",
        "colab": {
          "base_uri": "https://localhost:8080/"
        }
      },
      "execution_count": null,
      "outputs": [
        {
          "output_type": "stream",
          "name": "stdout",
          "text": [
            "6\n"
          ]
        }
      ]
    },
    {
      "cell_type": "markdown",
      "source": [
        "### **Function with Default Arguments:**"
      ],
      "metadata": {
        "id": "Iwi1PTzVUbBB"
      }
    },
    {
      "cell_type": "code",
      "source": [
        "def greet(name=\"Guest\"):\n",
        "    return f\"Hello, {name}!\"\n",
        "\n",
        "print(greet())\n",
        "print(greet(\"Alice\"))\n"
      ],
      "metadata": {
        "id": "L3caiuVgUnNr",
        "outputId": "155bedb7-f79c-4382-a0cb-c5af3f5774de",
        "colab": {
          "base_uri": "https://localhost:8080/"
        }
      },
      "execution_count": null,
      "outputs": [
        {
          "output_type": "stream",
          "name": "stdout",
          "text": [
            "Hello, Guest!\n",
            "Hello, Alice!\n"
          ]
        }
      ]
    },
    {
      "cell_type": "markdown",
      "source": [
        "### **Function with Variable-Length Arguments:**"
      ],
      "metadata": {
        "id": "hO1NMysEUuIE"
      }
    },
    {
      "cell_type": "code",
      "source": [
        "def sum_all(*args):\n",
        "    return sum(args)\n",
        "\n",
        "print(sum_all(1, 2, 3, 4))\n"
      ],
      "metadata": {
        "id": "l9LWZCybUylk",
        "outputId": "784909ab-8687-42b9-f66d-bd9753ef2075",
        "colab": {
          "base_uri": "https://localhost:8080/"
        }
      },
      "execution_count": null,
      "outputs": [
        {
          "output_type": "stream",
          "name": "stdout",
          "text": [
            "10\n"
          ]
        }
      ]
    },
    {
      "cell_type": "markdown",
      "source": [
        "**4. What is the purpose of the return statement in a Python function?**"
      ],
      "metadata": {
        "id": "dpyYBzo4U7l-"
      }
    },
    {
      "cell_type": "markdown",
      "source": [
        "The return statement is used to exit a function and pass the result back to the caller. It specifies the output of the function."
      ],
      "metadata": {
        "id": "I3XuKzNnVEbs"
      }
    },
    {
      "cell_type": "code",
      "source": [
        "def square(number):\n",
        "    return number ** 2\n",
        "\n",
        "result = square(5)\n",
        "print(result)\n"
      ],
      "metadata": {
        "id": "yuxuHfHXU-pH",
        "outputId": "f9fc0600-ff6e-45c4-cfd7-e6cf1d265f14",
        "colab": {
          "base_uri": "https://localhost:8080/"
        }
      },
      "execution_count": null,
      "outputs": [
        {
          "output_type": "stream",
          "name": "stdout",
          "text": [
            "25\n"
          ]
        }
      ]
    },
    {
      "cell_type": "markdown",
      "source": [
        "**5. What are iterators in Python and how do they differ from iterables?**"
      ],
      "metadata": {
        "id": "upyltd3pVVtj"
      }
    },
    {
      "cell_type": "markdown",
      "source": [
        "Iterable: An object capable of returning its members one at a time. Examples include lists, tuples, and strings. An iterable can be converted into an iterator using the iter() function."
      ],
      "metadata": {
        "id": "ySC8Z9ROVYm5"
      }
    },
    {
      "cell_type": "code",
      "source": [
        "my_list = [69,89,52,58,25]\n",
        "iterator = iter(my_list)"
      ],
      "metadata": {
        "id": "YIMIAHWhVlBJ"
      },
      "execution_count": 1,
      "outputs": []
    },
    {
      "cell_type": "markdown",
      "source": [
        "Iterator: An object representing a stream of data; it returns the next value with the next() function until there are no more values. Iterators do not store their contents in memory; instead, they compute the values on the fly."
      ],
      "metadata": {
        "id": "uuFaxYncVmbu"
      }
    },
    {
      "cell_type": "code",
      "source": [
        "my_list = [69,89,52,58,25]\n",
        "iterator = iter(my_list)\n",
        "print(next(iterator))\n",
        "print(next(iterator))\n",
        "print(next(iterator))"
      ],
      "metadata": {
        "id": "VN3E5kFsVxQu",
        "outputId": "4f13f88b-f11f-47a6-def7-fac3d06bdcc6",
        "colab": {
          "base_uri": "https://localhost:8080/"
        }
      },
      "execution_count": 2,
      "outputs": [
        {
          "output_type": "stream",
          "name": "stdout",
          "text": [
            "69\n",
            "89\n",
            "52\n"
          ]
        }
      ]
    },
    {
      "cell_type": "markdown",
      "source": [
        "**6. Explain the concept of generators in Python and how they are defined.**"
      ],
      "metadata": {
        "id": "JgdfPd88WD4I"
      }
    },
    {
      "cell_type": "markdown",
      "source": [
        "Generators are a special type of iterator that can be created using functions with the yield statement. They allow you to iterate through a sequence of values without storing the entire sequence in memory, which is memory-efficient."
      ],
      "metadata": {
        "id": "kR8KO8zGWKSi"
      }
    },
    {
      "cell_type": "code",
      "source": [
        "def count_up_to(max):\n",
        "    count = 1\n",
        "    while count <= max:\n",
        "        yield count\n",
        "        count += 1\n",
        "\n",
        "counter = count_up_to(20)\n",
        "print(next(counter))\n",
        "print(next(counter))\n",
        "print(next(counter))\n"
      ],
      "metadata": {
        "id": "gfDydQGrWRPZ",
        "outputId": "e911b53f-bf65-4553-8b42-ed596aefd1b9",
        "colab": {
          "base_uri": "https://localhost:8080/"
        }
      },
      "execution_count": 5,
      "outputs": [
        {
          "output_type": "stream",
          "name": "stdout",
          "text": [
            "1\n",
            "2\n",
            "3\n"
          ]
        }
      ]
    },
    {
      "cell_type": "markdown",
      "source": [
        "**7. What are the advantages of using generators over regular functions?**"
      ],
      "metadata": {
        "id": "h3DrffH0WWyg"
      }
    },
    {
      "cell_type": "markdown",
      "source": [
        "Memory Efficiency: Generators do not store the entire sequence in memory; they generate values on the fly.\n",
        "Lazy Evaluation: They compute values only when needed, which saves time and resources.\n",
        "Readable Code: Generators can simplify complex iteration code."
      ],
      "metadata": {
        "id": "jpUW-PC3Wp-X"
      }
    },
    {
      "cell_type": "code",
      "source": [
        "\n",
        "def fibonacci(limit):\n",
        "    a, b = 0, 1\n",
        "    while limit > 0:\n",
        "        yield a\n",
        "        a, b = b, a + b\n",
        "        limit -= 1\n",
        "\n",
        "fib = fibonacci(5)\n",
        "print(list(fib))\n"
      ],
      "metadata": {
        "id": "38NZTaCbWfu3",
        "outputId": "6f61cc02-f104-4b48-871e-63912a6f6a0c",
        "colab": {
          "base_uri": "https://localhost:8080/"
        }
      },
      "execution_count": null,
      "outputs": [
        {
          "output_type": "stream",
          "name": "stdout",
          "text": [
            "[0, 1, 1, 2, 3]\n"
          ]
        }
      ]
    },
    {
      "cell_type": "markdown",
      "source": [
        "**8. What is a lambda function in Python and when is it typically used?**"
      ],
      "metadata": {
        "id": "iJJtiFSBW6EG"
      }
    },
    {
      "cell_type": "markdown",
      "source": [
        "A lambda function is an anonymous, small, and one-line function defined using the lambda keyword. It is often used for short, simple functions that are used only once or in contexts where a full function definition would be overkill."
      ],
      "metadata": {
        "id": "7t7-1YqQXElG"
      }
    },
    {
      "cell_type": "code",
      "source": [
        "double = lambda x: x * 5\n",
        "print(double(40))\n"
      ],
      "metadata": {
        "id": "7NyfOmy5W_9r",
        "outputId": "ba8e75bf-0c65-4166-b416-7693d74356ed",
        "colab": {
          "base_uri": "https://localhost:8080/"
        }
      },
      "execution_count": 7,
      "outputs": [
        {
          "output_type": "stream",
          "name": "stdout",
          "text": [
            "200\n"
          ]
        }
      ]
    },
    {
      "cell_type": "markdown",
      "source": [
        "**9. Explain the purpose and usage of the map() function in Python.**"
      ],
      "metadata": {
        "id": "wcrZGM8zXLeI"
      }
    },
    {
      "cell_type": "markdown",
      "source": [
        "The map() function applies a specified function to every item of an iterable (like a list) and returns a map object (an iterator)."
      ],
      "metadata": {
        "id": "BYS7zI8FXSK5"
      }
    },
    {
      "cell_type": "code",
      "source": [
        "def square(x):\n",
        "    return x * x\n",
        "\n",
        "numbers = [50,85,69]\n",
        "squared_numbers = map(square, numbers)\n",
        "print(list(squared_numbers))\n"
      ],
      "metadata": {
        "id": "PIcVtJJnXbQ9",
        "outputId": "b34fbb4c-9774-4b83-fb0b-35532ed57f8e",
        "colab": {
          "base_uri": "https://localhost:8080/"
        }
      },
      "execution_count": 8,
      "outputs": [
        {
          "output_type": "stream",
          "name": "stdout",
          "text": [
            "[2500, 7225, 4761]\n"
          ]
        }
      ]
    },
    {
      "cell_type": "markdown",
      "source": [
        "**10. What is the difference between map(), reduce(), and filter() functions in Python?**"
      ],
      "metadata": {
        "id": "lmQs2V3mXjGo"
      }
    },
    {
      "cell_type": "markdown",
      "source": [
        "map(): Applies a function to all items in an input list."
      ],
      "metadata": {
        "id": "INvMVLGpYJwD"
      }
    },
    {
      "cell_type": "markdown",
      "source": [
        "reduce(): Applies a rolling computation to sequential pairs of values in a list. It requires importing from functools"
      ],
      "metadata": {
        "id": "q3sql8sjXzlj"
      }
    },
    {
      "cell_type": "markdown",
      "source": [
        " filter(): Applies a function that returns a boolean to filter elements in a list."
      ],
      "metadata": {
        "id": "6ybrF6UrYAYQ"
      }
    },
    {
      "cell_type": "code",
      "source": [
        "from functools import reduce\n",
        "\n",
        "numbers = [9,12,5,7]\n",
        "\n",
        "\n",
        "squared = map(lambda x: x * x, numbers)\n",
        "print(list(squared))\n",
        "\n",
        "summed = reduce(lambda x, y: x + y, numbers)\n",
        "print(summed)\n",
        "\n",
        "evens = filter(lambda x: x % 2 == 0, numbers)\n",
        "print(list(evens))\n"
      ],
      "metadata": {
        "id": "NIX7xObBYQQS",
        "outputId": "b8dfb894-4997-493e-c3ad-ebbc94bb1188",
        "colab": {
          "base_uri": "https://localhost:8080/"
        }
      },
      "execution_count": 9,
      "outputs": [
        {
          "output_type": "stream",
          "name": "stdout",
          "text": [
            "[81, 144, 25, 49]\n",
            "33\n",
            "[12]\n"
          ]
        }
      ]
    },
    {
      "cell_type": "markdown",
      "source": [
        "**11. Pen & Paper Explanation of reduce() Function for Summing a List**"
      ],
      "metadata": {
        "id": "I0VEPAs8ZamD"
      }
    },
    {
      "cell_type": "markdown",
      "source": [
        "https://docs.google.com/document/d/1E13SFETsg_zt6BC0TwjLQNzxG06_CVR4AH27Bdo_cbk/edit?usp=sharing"
      ],
      "metadata": {
        "id": "mgp_3uWTZnEm"
      }
    },
    {
      "cell_type": "markdown",
      "source": [
        "# **Practical Questions**"
      ],
      "metadata": {
        "id": "WA6CtFXnZuPT"
      }
    },
    {
      "cell_type": "markdown",
      "source": [
        "**Python function that takes a list of numbers as input and returns the sum of all even numbers in the list**"
      ],
      "metadata": {
        "id": "mU3LaALpPesS"
      }
    },
    {
      "cell_type": "code",
      "source": [
        "def sum_of_even_numbers(numbers):\n",
        "    even_sum = 0\n",
        "    for num in numbers:\n",
        "       if num % 2 == 0:\n",
        "            even_sum += num\n",
        "    return even_sum\n",
        "\n",
        "numbers_list = [1, 2, 3, 4, 5, 6]\n",
        "result = sum_of_even_numbers(numbers_list)\n",
        "\n",
        "\n",
        "\n",
        "print(f\"The sum of even numbers is: {result}\")\n"
      ],
      "metadata": {
        "colab": {
          "base_uri": "https://localhost:8080/"
        },
        "id": "kqGiU5xSPxGt",
        "outputId": "11d49f63-7a25-4e43-f79c-a6d65a1a6820"
      },
      "execution_count": null,
      "outputs": [
        {
          "output_type": "stream",
          "name": "stdout",
          "text": [
            "The sum of even numbers is: 12\n"
          ]
        }
      ]
    },
    {
      "cell_type": "markdown",
      "source": [
        "**Python function that accepts a string and returns the reverse of that string**"
      ],
      "metadata": {
        "id": "tgnvfKuhRiKh"
      }
    },
    {
      "cell_type": "code",
      "source": [
        "user_input = input(\"Enter a string to reverse: \")\n",
        "\n",
        "def reverse_string(input_string):\n",
        "    # Reverse the string using slicing\n",
        "\n",
        "    reversed_string = input_string[::-1]\n",
        "    return reversed_string\n",
        "result = reverse_string(user_input)\n",
        "\n",
        "\n",
        "print(f\"The reversed string is: {result}\")\n"
      ],
      "metadata": {
        "colab": {
          "base_uri": "https://localhost:8080/"
        },
        "id": "bRQAu_wVRqHr",
        "outputId": "8c0c1a1f-046f-4389-adb1-ffff0b65385c"
      },
      "execution_count": null,
      "outputs": [
        {
          "output_type": "stream",
          "name": "stdout",
          "text": [
            "Enter a string to reverse: sa\n",
            "The reversed string is: as\n"
          ]
        }
      ]
    },
    {
      "cell_type": "markdown",
      "source": [
        "**Python function modified to take user input for a list of integers, and then return a new list containing the squares of each number**"
      ],
      "metadata": {
        "id": "KqkKfl6XTrLS"
      }
    },
    {
      "cell_type": "code",
      "source": [
        "user_input = input(\"Enter a list of numbers : \")\n",
        "\n",
        "\n",
        "def square_numbers(numbers):\n",
        "\n",
        "    squared_list = [num ** 2 for num in numbers]\n",
        "    return squared_list\n",
        "\n",
        "\n",
        "numbers_list = list(map(int, user_input.split()))\n",
        "\n",
        "\n",
        "result = square_numbers(numbers_list)\n",
        "print(f\"The list of squared numbers is: {result}\")\n"
      ],
      "metadata": {
        "colab": {
          "base_uri": "https://localhost:8080/"
        },
        "id": "1x9_5NoBTugc",
        "outputId": "2cdbb638-77f8-4c0a-a852-8f4118c2bea1"
      },
      "execution_count": null,
      "outputs": [
        {
          "output_type": "stream",
          "name": "stdout",
          "text": [
            "Enter a list of numbers : 1 2 3\n",
            "The list of squared numbers is: [1, 4, 9]\n"
          ]
        }
      ]
    },
    {
      "cell_type": "markdown",
      "source": [
        "**Python function that checks if a given number is prime or not, specifically for numbers in the range from 1 to 200**"
      ],
      "metadata": {
        "id": "_f3i40YFU4Vu"
      }
    },
    {
      "cell_type": "code",
      "source": [
        "def is_prime(number):\n",
        "\n",
        "    if number < 2:\n",
        "        return False\n",
        "\n",
        "\n",
        "    for i in range(2, int(number ** 0.5) + 1):\n",
        "        if number % i == 0:\n",
        "            return False\n",
        "\n",
        "    return True\n",
        "\n",
        "prime_numbers = list(filter(is_prime, range(1, 201)))\n",
        "\n",
        "print(\"Prime numbers from 1 to 200 are:\")\n",
        "print(prime_numbers)\n"
      ],
      "metadata": {
        "colab": {
          "base_uri": "https://localhost:8080/"
        },
        "id": "9rAO-rM3Ywx7",
        "outputId": "6f76dea0-6f5c-4308-8484-a54de3d75208"
      },
      "execution_count": null,
      "outputs": [
        {
          "output_type": "stream",
          "name": "stdout",
          "text": [
            "Prime numbers from 1 to 200 are:\n",
            "[2, 3, 5, 7, 11, 13, 17, 19, 23, 29, 31, 37, 41, 43, 47, 53, 59, 61, 67, 71, 73, 79, 83, 89, 97, 101, 103, 107, 109, 113, 127, 131, 137, 139, 149, 151, 157, 163, 167, 173, 179, 181, 191, 193, 197, 199]\n"
          ]
        }
      ]
    },
    {
      "cell_type": "markdown",
      "source": [
        "**iterator class in Python that generates the Fibonacci sequence up to a specified number of terms**"
      ],
      "metadata": {
        "id": "Fv6b70tzcbxA"
      }
    },
    {
      "cell_type": "code",
      "source": [
        "class FibonacciIterator:\n",
        "    def __init__(number, n):\n",
        "        number.n = n\n",
        "        number.a, number.b = 0, 1\n",
        "        number.count = 0\n",
        "\n",
        "    def __iter__(number):\n",
        "        return number\n",
        "\n",
        "\n",
        "    def __next__(number):\n",
        "        if number.count < number.n:\n",
        "\n",
        "            number.a, number.b = number.b, number.a + number.b\n",
        "            number.count += 1\n",
        "            return number.a\n",
        "        else:\n",
        "\n",
        "            raise StopIteration\n",
        "\n",
        "\n",
        "n_terms = 10\n",
        "fibonacci_sequence = FibonacciIterator(n_terms)\n",
        "\n",
        "for number in fibonacci_sequence:\n",
        "    print(number)\n"
      ],
      "metadata": {
        "colab": {
          "base_uri": "https://localhost:8080/"
        },
        "id": "xUXMczTrct0P",
        "outputId": "7f542b19-4020-4007-9409-9572ed0e92d4"
      },
      "execution_count": null,
      "outputs": [
        {
          "output_type": "stream",
          "name": "stdout",
          "text": [
            "1\n",
            "1\n",
            "2\n",
            "3\n",
            "5\n",
            "8\n",
            "13\n",
            "21\n",
            "34\n",
            "55\n"
          ]
        }
      ]
    },
    {
      "cell_type": "markdown",
      "source": [
        "**generator function in Python that yields the powers of 2 up to a given exponent**"
      ],
      "metadata": {
        "id": "B26hp3g2fWEH"
      }
    },
    {
      "cell_type": "code",
      "source": [
        "def powers_of_2(exponent):\n",
        "    \"\"\"Generator function to yield powers of 2 up to the given exponent.\"\"\"\n",
        "    for i in range(exponent + 1):\n",
        "        yield 2 ** i\n",
        "\n",
        "try:\n",
        "    user_input = int(input(\"Enter the maximum exponent for powers of 2: \"))\n",
        "    if user_input < 0:\n",
        "        print(\"Exponent should be a non-negative integer.\")\n",
        "    else:\n",
        "\n",
        "        for power in powers_of_2(user_input):\n",
        "            print(power)\n",
        "except ValueError:\n",
        "    print(\"Please enter a valid integer.\")\n"
      ],
      "metadata": {
        "colab": {
          "base_uri": "https://localhost:8080/"
        },
        "id": "HslyWz6-ffSg",
        "outputId": "b2aae34a-14c0-4e50-9b46-f5e43ead55dc"
      },
      "execution_count": null,
      "outputs": [
        {
          "output_type": "stream",
          "name": "stdout",
          "text": [
            "Enter the maximum exponent for powers of 2: 4\n",
            "1\n",
            "2\n",
            "4\n",
            "8\n",
            "16\n"
          ]
        }
      ]
    },
    {
      "cell_type": "markdown",
      "source": [
        "**Implement a generator function that reads a file line by line and yields each line as a string**"
      ],
      "metadata": {
        "id": "ZfYNtU8XgQvD"
      }
    },
    {
      "cell_type": "code",
      "source": [
        "def read_lines(filename):\n",
        "    \"\"\"Generator function to read a file line by line and yield each line.\"\"\"\n",
        "    with open(filename, 'r') as file:\n",
        "        for line in file:\n",
        "            yield line.strip()\n",
        "\n",
        "filename = input(\"Enter the filename to read: \")\n",
        "for line in read_lines(filename):\n",
        "    print(line)\n"
      ],
      "metadata": {
        "id": "-2MP_ep-hv4V"
      },
      "execution_count": null,
      "outputs": []
    },
    {
      "cell_type": "markdown",
      "source": [
        "**lambda function in Python to sort a list of tuples based on the second element of each tuple**"
      ],
      "metadata": {
        "id": "htG_gf3piqS_"
      }
    },
    {
      "cell_type": "code",
      "source": [
        "\n",
        "tuples_list = [(86, 3), (63, 1), (36, 2), (66, 4)]\n",
        "\n",
        "\n",
        "sorted_list = sorted(tuples_list, key=lambda x: x[1])\n",
        "\n",
        "print(\"Sorted list:\", sorted_list)\n"
      ],
      "metadata": {
        "id": "ICVSqubsiuBP",
        "colab": {
          "base_uri": "https://localhost:8080/"
        },
        "outputId": "75a65875-8c59-47f5-e931-bf4333a67f18"
      },
      "execution_count": null,
      "outputs": [
        {
          "output_type": "stream",
          "name": "stdout",
          "text": [
            "Sorted list: [(63, 1), (36, 2), (86, 3), (66, 4)]\n"
          ]
        }
      ]
    },
    {
      "cell_type": "markdown",
      "source": [
        "**Python program that uses map() to convert a list of temperatures from Celsius to Fahrenheit**"
      ],
      "metadata": {
        "id": "9FnJVWjhjr8p"
      }
    },
    {
      "cell_type": "code",
      "source": [
        "\n",
        "celsius_temperatures = [0, 200, 370, 100]\n",
        "\n",
        "fahrenheit_temperatures = list(map(lambda c: (c * 9/5) + 32, celsius_temperatures))\n",
        "\n",
        "print(\"Temperatures in Fahrenheit:\", fahrenheit_temperatures)\n"
      ],
      "metadata": {
        "id": "1fwBKa07jw2h",
        "colab": {
          "base_uri": "https://localhost:8080/"
        },
        "outputId": "15456c6d-9186-4f6d-f6a5-eb06e1cf208d"
      },
      "execution_count": null,
      "outputs": [
        {
          "output_type": "stream",
          "name": "stdout",
          "text": [
            "Temperatures in Fahrenheit: [32.0, 392.0, 698.0, 212.0]\n"
          ]
        }
      ]
    },
    {
      "cell_type": "markdown",
      "source": [
        "**Python program that uses filter to remove all the vowels from a given string.**"
      ],
      "metadata": {
        "id": "V_1OoqMbkRAI"
      }
    },
    {
      "cell_type": "code",
      "source": [
        "user_input = input(\"Enter a string: \")\n",
        "\n",
        "def remove_vowels(input_string):\n",
        "\n",
        "    vowels = 'AEIOUaeiou'\n",
        "    result = ''.join(filter(lambda char: char not in vowels, input_string))\n",
        "\n",
        "    return result\n",
        "\n",
        "\n",
        "output_string = remove_vowels(user_input)\n",
        "\n",
        "print(\"String without vowels:\", output_string)\n"
      ],
      "metadata": {
        "id": "PIt9wrFckbH2",
        "colab": {
          "base_uri": "https://localhost:8080/"
        },
        "outputId": "069aff5c-dde7-409b-de7d-61207a71ca3c"
      },
      "execution_count": null,
      "outputs": [
        {
          "output_type": "stream",
          "name": "stdout",
          "text": [
            "Enter a string: masha and the bear\n",
            "String without vowels: msh nd th br\n"
          ]
        }
      ]
    },
    {
      "cell_type": "markdown",
      "source": [
        "**which returns a list with 2-tuples**\n",
        "\n"
      ],
      "metadata": {
        "id": "Hy0ornXwniQd"
      }
    },
    {
      "cell_type": "code",
      "source": [
        "def calculate_order_values(orders):\n",
        "\n",
        "\n",
        "  return list(map(lambda order: (order[0], (order[2] * order[3]) + 10 if (order[2] * order[3]) < 100 else (order[2] * order[3])), orders))\n",
        "\n",
        "orders = [\n",
        "  [85363, \"Learning Python, Mark Lutz\", 2,23,96],\n",
        "  [85932, \"Programming Python, Mark Lutz\", 9, 65.63],\n",
        "  [96853, \"Head First Python, Paul Barry\", 6, 85.56],\n",
        "  [85963., \"Einführung in Python3, Bernd Klein\", 7, 74.19],\n",
        "]\n",
        "\n",
        "result = calculate_order_values(orders)\n",
        "print(result)"
      ],
      "metadata": {
        "colab": {
          "base_uri": "https://localhost:8080/"
        },
        "id": "osvKD7z_nAvi",
        "outputId": "6dfbdbad-6c7a-4194-eb08-60d2d9d1b48c"
      },
      "execution_count": 11,
      "outputs": [
        {
          "output_type": "stream",
          "name": "stdout",
          "text": [
            "[(85363, 56), (85932, 590.67), (96853, 513.36), (85963.0, 519.3299999999999)]\n"
          ]
        }
      ]
    }
  ]
}